{
  "cells": [
    {
      "cell_type": "markdown",
      "metadata": {
        "id": "view-in-github",
        "colab_type": "text"
      },
      "source": [
        "<a href=\"https://colab.research.google.com/github/Kardena1/skola-vyuka/blob/main/JupyterNotebook/Python/Vyctove_datove_typy_zadani.ipynb\" target=\"_parent\"><img src=\"https://colab.research.google.com/assets/colab-badge.svg\" alt=\"Open In Colab\"/></a>"
      ]
    },
    {
      "cell_type": "markdown",
      "metadata": {
        "id": "VA8qcJkL0n7l"
      },
      "source": [
        "# Výčtové datové typy\n",
        "Python má několik výčtových datových typů, které se používají pro uchování více hodnot v jedné proměnné. <br>\n",
        "Jsou to: <br>\n",
        "- list\n",
        "- tuple\n",
        "- set\n",
        "- dict (dictionary)\n",
        "- Enum\n",
        "\n",
        "- range\n",
        "\n",
        "## Range\n",
        "Začneme typem range, který je trochu speciální. Jak název napovídá, je to rozsah čísel.\n",
        "\n"
      ]
    },
    {
      "cell_type": "code",
      "source": [
        "# tímto se toho mnoho nedozvíme...\n",
        "print(range(3))\n",
        "# hvězdičkou se můžeme podívat \"dovnitř\" typu range\n",
        "print(*range(3))\n",
        "# můžeme určit i počáteční hodnotu\n",
        "print(*range(5, 10))\n",
        "# a také můžeme určit krok\n",
        "print(*range(5,10,2))"
      ],
      "metadata": {
        "id": "4QCfM5jD-Aum",
        "outputId": "6db2fced-83e9-419b-c6b1-598dc4784323",
        "colab": {
          "base_uri": "https://localhost:8080/"
        }
      },
      "execution_count": 5,
      "outputs": [
        {
          "output_type": "stream",
          "name": "stdout",
          "text": [
            "range(0, 3)\n",
            "0 1 2\n",
            "5 6 7 8 9\n",
            "5 7 9\n"
          ]
        }
      ]
    },
    {
      "cell_type": "markdown",
      "source": [
        "\n",
        "## List\n",
        "List se tvoří pomocí '[ ]' a hodnoty se oddělují čárkami."
      ],
      "metadata": {
        "id": "2UpR1TZ2-C4h"
      }
    },
    {
      "cell_type": "code",
      "execution_count": 15,
      "metadata": {
        "id": "0E1XuZxw0n7t",
        "outputId": "d9385676-fa06-4607-cf5c-3efd280d9752",
        "colab": {
          "base_uri": "https://localhost:8080/"
        }
      },
      "outputs": [
        {
          "output_type": "stream",
          "name": "stdout",
          "text": [
            "['jablko', 'hruška', 'meloun', 'karel', 3]\n",
            "['jablko', 'hruška', 'meloun', 'k', 3]\n"
          ]
        }
      ],
      "source": [
        "# takto může vypadat typický list\n",
        "a = \"karel\"\n",
        "muj_list = [\"jablko\", \"hruška\", \"meloun\", a, 3]\n",
        "# po výpisu do konzole list vypadá takto\n",
        "print(muj_list)\n",
        "a = \"k\"\n",
        "muj_list[3]=a\n",
        "\n",
        "\n",
        "print(muj_list)"
      ]
    },
    {
      "cell_type": "markdown",
      "metadata": {
        "id": "12D0lJJx0n7y"
      },
      "source": [
        "### Vypsání konkrétní hodnoty\n",
        "Pokud chceme vypsat konkrétní prvek z listu, musíme použít '[ ]' a do závorek vložit index prvku, který chceme vypsat. Hodnoty v listu jsou indexované od 0. Indexy jsou implicitně zabudované do programovacího jazyka, tedy nemusíme nikde zapisovat, že mají existovat a nemůžeme je nijak měnit."
      ]
    },
    {
      "cell_type": "code",
      "execution_count": 30,
      "metadata": {
        "id": "xE0uRFyq0n71",
        "outputId": "de828a5e-9fab-4aa7-e705-27efb360042c",
        "colab": {
          "base_uri": "https://localhost:8080/"
        }
      },
      "outputs": [
        {
          "output_type": "stream",
          "name": "stdout",
          "text": [
            "jablko\n",
            "hruška\n",
            "['jablko', 'hruška', 'patizon']\n",
            "['jablko', 'hruška', 'patizon', 10]\n",
            "['jablko', 'hruška', 'patizon', 'patizon']\n",
            "['jablko', 'hruška', 'patizon']\n",
            "[]\n"
          ]
        }
      ],
      "source": [
        "# mějme list\n",
        "# indexy:      0         1         2\n",
        "muj_list = [\"jablko\", \"hruška\", \"meloun\"]\n",
        "# a chceme vypsat první prvek\n",
        "print(muj_list[0])\n",
        "# pokud chceme vypsat druhý prvek\n",
        "print(muj_list[1])\n",
        "\n",
        "muj_list[2]=\"patizon\"\n",
        "print(muj_list)\n",
        "muj_list.append(10) # <---  pridani cehokoliv do listu, klidne promennu\n",
        "print(muj_list)\n",
        "muj_list[3]=\"patizon\" # <--- predela treti index v slovo patizon\n",
        "print(muj_list)\n",
        "muj_list.remove(\"patizon\") # <--- smaze prvni slovo patizon, ktere nalezne v listu\n",
        "print(muj_list)\n",
        "muj_list.clear() # <--- ocisti list\n",
        "print(muj_list)\n",
        "\n"
      ]
    },
    {
      "cell_type": "markdown",
      "metadata": {
        "id": "hZ9Rt1Gj0n75"
      },
      "source": [
        "### Záměna hodnot\n",
        "List umožňuje přidání, odebrání a změnu hodnot. To se provádí pomocí funkcí append(), pop() a přístupu k prvku pomocí indexu."
      ]
    },
    {
      "cell_type": "code",
      "execution_count": 31,
      "metadata": {
        "id": "QHyMrIcw0n79",
        "outputId": "aa548d2c-18ca-4be2-8272-8407f5183fa5",
        "colab": {
          "base_uri": "https://localhost:8080/"
        }
      },
      "outputs": [
        {
          "output_type": "stream",
          "name": "stdout",
          "text": [
            "['jablko', 'hruška', 'meloun', 'banan']\n",
            "['jablko', 'meloun', 'banan']\n",
            "['malina', 'meloun', 'banan']\n"
          ]
        }
      ],
      "source": [
        "# mějme list\n",
        "muj_list = [\"jablko\", \"hruška\", \"meloun\"]\n",
        "# a chceme přidat nový prvek na konec listu\n",
        "muj_list.append(\"banan\")\n",
        "# po výpisu do konzole list vypadá takto\n",
        "print(muj_list)\n",
        "\n",
        "# pro smazání prvku z listu se používá funkce pop()\n",
        "# použijeme ten samý list a smažeme z něj druhý prvek\n",
        "muj_list.pop(1) # jako argument předáme index prvku, který chceme smazat\n",
        "# po výpisu do konzole list vypadá takto\n",
        "print(muj_list)\n",
        "\n",
        "# změnit prvek můžeme přímo\n",
        "muj_list[0] = \"malina\"\n",
        "print(muj_list)"
      ]
    },
    {
      "cell_type": "markdown",
      "metadata": {
        "id": "tjPcOCjZ0n7-"
      },
      "source": [
        "### Zjištění délky listu\n",
        "Pomocí funkce len() lze zjistit délku listu."
      ]
    },
    {
      "cell_type": "code",
      "execution_count": 32,
      "metadata": {
        "id": "_FhxhAeJ0n8B",
        "outputId": "5ed20845-e2ef-46ee-8f3e-4dd04e1cbacb",
        "colab": {
          "base_uri": "https://localhost:8080/"
        }
      },
      "outputs": [
        {
          "output_type": "stream",
          "name": "stdout",
          "text": [
            "3\n"
          ]
        }
      ],
      "source": [
        "# mějme list\n",
        "muj_list = [\"jablko\", \"hruška\", \"meloun\"]\n",
        "# a chceme zjistit jeho délku\n",
        "print(len(muj_list))\n"
      ]
    },
    {
      "cell_type": "markdown",
      "metadata": {
        "id": "afR_q9xx0n8C"
      },
      "source": [
        "### For loop pro list\n",
        "Pokud chceme procházet list (s každým prvkem provést nějakou operaci), použijeme for loop. Python umožňuje několik způsobů procházení listu."
      ]
    },
    {
      "cell_type": "code",
      "execution_count": 35,
      "metadata": {
        "id": "YG3MKubD0n8E",
        "outputId": "ee10b1a2-041a-418d-a65c-d5b44dec6846",
        "colab": {
          "base_uri": "https://localhost:8080/"
        }
      },
      "outputs": [
        {
          "output_type": "stream",
          "name": "stdout",
          "text": [
            "jablko\n",
            "hruška\n",
            "meloun\n",
            "banan\n",
            "ananas\n",
            "citron\n",
            "12\n",
            "jablko\n",
            "hruška\n",
            "meloun\n",
            "banan\n",
            "ananas\n",
            "citron\n",
            "12\n"
          ]
        }
      ],
      "source": [
        "# mějme list\n",
        "muj_list = [\"jablko\", \"hruška\", \"meloun\", \"banan\", \"ananas\", \"citron\", \"1\"+\"2\"]\n",
        "# a chceme vypsat všechny prvky\n",
        "# ten 'hloupější' způsob vypsání vypadá takto\n",
        "for i in range(len(muj_list)):\n",
        "# v proměnné 'i' se v tomto případě nachází index od 0 do posledního prvku v listu\n",
        "# délka je v tomto připadě zjištěna pomocí funkce len()\n",
        "    print(muj_list[i])\n",
        "\n",
        "# druhý způsob vypsání vypadá takto\n",
        "for prvek in muj_list:\n",
        "# v proměnné 'prvek' se v tomto případě nachází každý prvek v listu\n",
        "    print(prvek)\n",
        "# tento postup je rychlejší na zápis a přehlednější pro čtenáře, zároveň se tento postup považuje za ten 'správný Pythonovský' způsob"
      ]
    },
    {
      "cell_type": "markdown",
      "metadata": {
        "id": "K1hUCRAu0n8G"
      },
      "source": [
        "### Datové typy v listu\n",
        "Do listu můžeme uložit v podstatě veškeré datové typy. Od int, přes string, až po jiné listy, či hodnoty bool."
      ]
    },
    {
      "cell_type": "code",
      "execution_count": 36,
      "metadata": {
        "id": "RPEROPFB0n8I",
        "outputId": "652b29ec-12df-417e-b693-347116af4f57",
        "colab": {
          "base_uri": "https://localhost:8080/"
        }
      },
      "outputs": [
        {
          "output_type": "stream",
          "name": "stdout",
          "text": [
            "['text', 1, 3.14, True, ['jiny', 'list']]\n"
          ]
        }
      ],
      "source": [
        "muj_list = [\"text\", 1, 3.14, True, [\"jiny\", \"list\"]]\n",
        "# po výpisu do konzole list vypadá takto\n",
        "print(muj_list)\n",
        "\n",
        "# pokud bychom chtěli vypsat hodnotu z listu v listu, použijeme '[ ][ ]'\n",
        "# print(muj_list[4][1]) # 5. prvek prvního listu a 2. prvek druhého listu (v tomto případě se jedná o string 'list')"
      ]
    },
    {
      "cell_type": "markdown",
      "metadata": {
        "id": "RfxbAX850n8K"
      },
      "source": [
        "## Tuple\n",
        "Tuple je velice podobný podobný listu. Opět se jeho hodnoty oddělují čárkami, na konktrétní hodnotu se odkazuje pomocí [index] (index opět číslován od 0).<br>\n",
        "Tuple je jiný v tom, že nelze přidávat a odebírat hodnoty, hodnoty zároveň nelze měnit."
      ]
    },
    {
      "cell_type": "code",
      "execution_count": 37,
      "metadata": {
        "id": "xS4AyQYa0n8L",
        "outputId": "7681b120-4ffd-4913-c9a1-bfab849f97b4",
        "colab": {
          "base_uri": "https://localhost:8080/"
        }
      },
      "outputs": [
        {
          "output_type": "stream",
          "name": "stdout",
          "text": [
            "('auto', 'kolo', 'kamion')\n",
            "kolo\n"
          ]
        }
      ],
      "source": [
        "# mějme tuple\n",
        "muj_tuple = (\"auto\", \"kolo\", \"kamion\")\n",
        "# po výpisu do konzole tuple vypadá takto\n",
        "print(muj_tuple)\n",
        "\n",
        "#pro výpis konkrétního prvku z tuple se používá indexování\n",
        "print(muj_tuple[1]) # vypíše druhý prvek\n",
        "\n",
        "# pokud bychom chtěli přidat nový prvek do tuple Python nám vyhodí výjimku AtributeError\n",
        "# muj_tuple.append(\"auto\")\n",
        "\n",
        "# to samé se děje pro vyhození hodnoty z tuple\n",
        "# muj_tuple.pop(1)\n",
        "\n",
        "# a pokud bychom chtelí změnit hodnotu v tuple, Python nám vyhodí výjimku TypeError\n",
        "#muj_tuple[1] = \"kolo\""
      ]
    },
    {
      "cell_type": "markdown",
      "metadata": {
        "id": "iT_WYCcW0n8N"
      },
      "source": [
        "### Datové typy v tuple\n",
        "Do tuple můžeme uložit v podstatě veškeré datové typy. Od int, přes string, až po jiné listy, či hodnoty bool."
      ]
    },
    {
      "cell_type": "code",
      "execution_count": 38,
      "metadata": {
        "id": "g1pwqYCy0n8N",
        "outputId": "25f0701e-f0f6-44b4-a85b-af6d6eb84236",
        "colab": {
          "base_uri": "https://localhost:8080/"
        }
      },
      "outputs": [
        {
          "output_type": "stream",
          "name": "stdout",
          "text": [
            "('text text', 1, 3.14, True, ['jiny', 'list'], ('druhy', 'tuple'))\n"
          ]
        }
      ],
      "source": [
        "muj_tuple = (\"text text\", 1, 3.14, True, [\"jiny\", \"list\"], (\"druhy\", \"tuple\"))\n",
        "print(muj_tuple)"
      ]
    },
    {
      "cell_type": "markdown",
      "metadata": {
        "id": "qfcEW6fi0n8O"
      },
      "source": [
        "### For loop pro tuple\n",
        "Pokud chceme procházet tuple, použijeme for loop. Způsob je stejný jako u listu."
      ]
    },
    {
      "cell_type": "code",
      "execution_count": 40,
      "metadata": {
        "id": "yl8qgil-0n8R",
        "outputId": "4f2efb0f-f630-4d82-e720-d38403f5ca98",
        "colab": {
          "base_uri": "https://localhost:8080/",
          "height": 245
        }
      },
      "outputs": [
        {
          "output_type": "stream",
          "name": "stdout",
          "text": [
            "auto\n",
            "kolo\n",
            "kamion\n"
          ]
        },
        {
          "output_type": "error",
          "ename": "AttributeError",
          "evalue": "'tuple' object has no attribute 'append'",
          "traceback": [
            "\u001b[0;31m---------------------------------------------------------------------------\u001b[0m",
            "\u001b[0;31mAttributeError\u001b[0m                            Traceback (most recent call last)",
            "\u001b[0;32m/tmp/ipython-input-3575314556.py\u001b[0m in \u001b[0;36m<cell line: 0>\u001b[0;34m()\u001b[0m\n\u001b[1;32m      5\u001b[0m     \u001b[0mprint\u001b[0m\u001b[0;34m(\u001b[0m\u001b[0mprvek\u001b[0m\u001b[0;34m)\u001b[0m\u001b[0;34m\u001b[0m\u001b[0;34m\u001b[0m\u001b[0m\n\u001b[1;32m      6\u001b[0m \u001b[0;34m\u001b[0m\u001b[0m\n\u001b[0;32m----> 7\u001b[0;31m \u001b[0mmuj_tuple\u001b[0m\u001b[0;34m.\u001b[0m\u001b[0mappend\u001b[0m\u001b[0;34m(\u001b[0m\u001b[0;34m\"auts\"\u001b[0m\u001b[0;34m)\u001b[0m\u001b[0;34m\u001b[0m\u001b[0;34m\u001b[0m\u001b[0m\n\u001b[0m\u001b[1;32m      8\u001b[0m \u001b[0mprint\u001b[0m\u001b[0;34m(\u001b[0m\u001b[0mprvek\u001b[0m\u001b[0;34m)\u001b[0m\u001b[0;34m\u001b[0m\u001b[0;34m\u001b[0m\u001b[0m\n",
            "\u001b[0;31mAttributeError\u001b[0m: 'tuple' object has no attribute 'append'"
          ]
        }
      ],
      "source": [
        "# mějme tuple\n",
        "muj_tuple = (\"auto\", \"kolo\", \"kamion\")\n",
        "# a chceme vypsat všechny prvky\n",
        "for prvek in muj_tuple:\n",
        "    print(prvek)\n",
        "\n",
        "print(prvek)"
      ]
    },
    {
      "cell_type": "markdown",
      "metadata": {
        "id": "vGaS_jJ60n8S"
      },
      "source": [
        "## Set\n",
        "Set je datový typ, který uchovává více unikátních hodnot. Set je vytvářen pomocí '{}' a hodnoty se oddělují čárkami.\n",
        "Set není indexovaný, takže nemůžeme vypsat konkrétní hodnotu. Můžeme přidávat a odebírat hodnoty. Duplicitní hodnoty se v setu ignorují."
      ]
    },
    {
      "cell_type": "code",
      "execution_count": 46,
      "metadata": {
        "id": "AxiNxEZm0n8U",
        "outputId": "f7c0bd93-86f2-4e0a-8963-3d66ad887b19",
        "colab": {
          "base_uri": "https://localhost:8080/"
        }
      },
      "outputs": [
        {
          "output_type": "stream",
          "name": "stdout",
          "text": [
            "{'křeček', 'kocka', 'pes'}\n",
            "{'kůň', 'kocka', 'pes'}\n",
            "{'kůň', 'pes', 20, 'kocka'}\n"
          ]
        }
      ],
      "source": [
        "# mějme set\n",
        "muj_set = {\"pes\", \"kocka\", \"křeček\"}\n",
        "# po výpisu do konzole set vypadá takto\n",
        "print(muj_set)\n",
        "\n",
        "# set nemůžeme indexovat, Python nám při pokusu vyhodí TypeError\n",
        "# print(muj_set[1])\n",
        "\n",
        "# zároveň můžeme přidávat a odebírat nové prvky do setu\n",
        "# kontrolní otázka: proč se nyní funkce jmenuje add() a ne append() jako u list a tuple?\n",
        "muj_set.add(\"kůň\")\n",
        "muj_set.remove(\"křeček\")\n",
        "print(muj_set)\n",
        "\n",
        "muj_set.add(20)\n",
        "print(muj_set)"
      ]
    },
    {
      "cell_type": "code",
      "execution_count": 47,
      "metadata": {
        "id": "Qt9OLgVs0n8V",
        "outputId": "75b94435-f27e-499c-bce5-f45eb6896069",
        "colab": {
          "base_uri": "https://localhost:8080/"
        }
      },
      "outputs": [
        {
          "output_type": "stream",
          "name": "stdout",
          "text": [
            "{'křeček', 'kocka', 'pes'}\n"
          ]
        }
      ],
      "source": [
        "# pokud bychom chtěli do setu přidat nový prvek, který již v setu je, Python nevyhodí žádnou vyjímku, ale nevytvoří nový prvek\n",
        "muj_set = {\"pes\", \"kocka\", \"křeček\"}\n",
        "muj_set.add(\"pes\")\n",
        "print(muj_set)\n"
      ]
    },
    {
      "cell_type": "markdown",
      "metadata": {
        "id": "pKTWKWPm0n8W"
      },
      "source": [
        "### For loop pro set\n",
        "Pokud chceme procházet set, použijeme for loop. Způsob je stejný jako u list, či tuple."
      ]
    },
    {
      "cell_type": "code",
      "execution_count": 48,
      "metadata": {
        "id": "X57PGveX0n8W",
        "outputId": "748f3f7f-7d17-4e11-eb84-5c16d9628ff6",
        "colab": {
          "base_uri": "https://localhost:8080/"
        }
      },
      "outputs": [
        {
          "output_type": "stream",
          "name": "stdout",
          "text": [
            "křeček\n",
            "kocka\n",
            "pes\n"
          ]
        }
      ],
      "source": [
        "# mějme set\n",
        "muj_set = {\"pes\", \"kocka\", \"křeček\"}\n",
        "# a chceme vypsat všechny prvky\n",
        "for prvek in muj_set:\n",
        "    print(prvek)"
      ]
    },
    {
      "cell_type": "markdown",
      "metadata": {
        "id": "ojFKMKNL0n8Y"
      },
      "source": [
        "### Datové typy v setu\n",
        "Do setu můžeme uložit v podstatě veškeré datové typy. Od int, přes string, až po tuple, či hodnoty bool."
      ]
    },
    {
      "cell_type": "code",
      "execution_count": 49,
      "metadata": {
        "id": "2oZWIN4K0n8m",
        "outputId": "3d3e0203-8d57-4cf7-f359-c4ed5cbe6da2",
        "colab": {
          "base_uri": "https://localhost:8080/"
        }
      },
      "outputs": [
        {
          "output_type": "stream",
          "name": "stdout",
          "text": [
            "{('jiny', 'tuple'), 3.14, 1, 'text'}\n"
          ]
        }
      ],
      "source": [
        "muj_set = {\"text\", 1, 3.14, True, (\"jiny\", \"tuple\")} # do setu nejde uložit list a jiný set\n",
        "print(muj_set)"
      ]
    },
    {
      "cell_type": "markdown",
      "metadata": {
        "id": "MSBNWjmr0n8n"
      },
      "source": [
        "## Dictionary\n",
        "Datový typ dictionary má hodnoty, které se uchovávají spolus s klíči, ve formátu \"nazev_klice\":hodnota. Dictionary je vytvářen pomocí '{}' a hodnoty se oddělují čárkami."
      ]
    },
    {
      "cell_type": "code",
      "execution_count": null,
      "metadata": {
        "id": "4pTaKvMn0n8o"
      },
      "outputs": [],
      "source": [
        "muj_dict = {\"znacka\": \"Audi\", \"model\": \"A4\", \"rok\": 2005}\n",
        "# po výpisu do konzole dict vypadá takto\n",
        "print(muj_dict)\n",
        "\n",
        "# pro vypsání hodnoty u kontrétního klíče v dictu se používají '[]', do kterých se vkládá název klíče\n",
        "print(muj_dict[\"model\"]) # vypíše hodnotu model\n",
        "\n",
        "# pro přidání nového klíče a hodnoty do dictu se používá '[]'\n",
        "muj_dict[\"barva\"] = \"červená\"\n",
        "print(muj_dict)\n",
        "\n",
        "# pro vyhození hodnoty z dictu se používá funkce pop()\n",
        "muj_dict.pop(\"rok\")\n",
        "print(muj_dict)\n",
        "\n",
        "# dict stejně jako set, nedovoluje duplicitní prvky (resp. klíče)\n",
        "muj_dict = {\"znacka\": \"Audi\", \"model\": \"A4\", \"rok\": 2005, \"rok\":2020}\n",
        "print(muj_dict)\n"
      ]
    },
    {
      "cell_type": "markdown",
      "metadata": {
        "id": "51V-5p7X0n8o"
      },
      "source": [
        "### For loop pro dictionary\n",
        "Pokud chceme procházet dictionary, použijeme for loop. Způsob je stejný jako u listu, či tuple."
      ]
    },
    {
      "cell_type": "code",
      "execution_count": null,
      "metadata": {
        "id": "qIkOyaZF0n8p"
      },
      "outputs": [],
      "source": [
        "# mějme dict\n",
        "muj_dict = {\"znacka\": \"Audi\", \"model\": \"A4\", \"rok\": 2005}\n",
        "# a chceme vypsat všechny klíče\n",
        "for klic in muj_dict:\n",
        "    print(klic)\n",
        "\n",
        "# pokud bychom chtěli vypsat všechny hodnoty, použijeme funkci values()\n",
        "for hodnota in muj_dict.values():\n",
        "    print(hodnota)\n",
        "\n",
        "# pro vypsání klíče i hodnoty použijeme\n",
        "for klic, hodnota in muj_dict.items():\n",
        "    print(klic, \":\", hodnota)"
      ]
    },
    {
      "cell_type": "markdown",
      "metadata": {
        "id": "UcUgEwgO0n8q"
      },
      "source": [
        "# Datové typy v dictionary\n",
        "Do dictionary můžeme uložit v podstatě veškeré datové typy. Od int, přes string, až po listy, či hodnoty bool.\n",
        "\n",
        "Jako klíč můžeme použít cokoliv, co dokáže Python takzvaně zahashovat -> \"nedá se to v průběhu programu změnit\"\n",
        "\n",
        "Kontrolní otázky: Můžeme použít list jako klíč? Můžeme použít tuple jako klíč?"
      ]
    },
    {
      "cell_type": "code",
      "execution_count": null,
      "metadata": {
        "id": "wR0L1pqw0n8q"
      },
      "outputs": [],
      "source": [
        "muj_dict = {\n",
        "    \"znacka\": \"Audi\",\n",
        "    \"model\": \"A4\",\n",
        "    \"rok\": 2005,\n",
        "    \"elektrické\": False,\n",
        "    \"barva\": [\"červená\", \"modrá\", \"zelená\"],\n",
        "}\n",
        "\n",
        "# po výpisu do konzole dict vypadá takto\n",
        "print(muj_dict)"
      ]
    },
    {
      "cell_type": "markdown",
      "metadata": {
        "id": "L7UWN8to0n8r"
      },
      "source": [
        "## Enum\n",
        "Enum je jediný typ, který se výrazně liší od předchozích. V podstatě se jedná o námi vytvořenou třídu, dědící od  Enum.\n",
        "Jelikož se jedná o třídu, můžeme k ní vytvořit nejrůznější funkce, specifické jenom pro tuto třídu. My se však zaměříme pouze na zápis hodnot."
      ]
    },
    {
      "cell_type": "code",
      "execution_count": null,
      "metadata": {
        "id": "gkSJDfKP0n8s"
      },
      "outputs": [],
      "source": [
        "from enum import Enum\n",
        "class Barva(Enum):\n",
        "    CERVENA = \"červená\" # tyto hodnoty nelze měnit\n",
        "    MODRA = \"modrá\"\n",
        "    ZELENA = \"zelená\"\n",
        "    # zároveň Enum nedovoluje duplicitní hodnoty(resp. klíče)\n",
        "    # CERVENA = \"červená\" # Python nám vyhodí chybu, že ČERVENA již existuje\n",
        "    JINA_CERVENA = \"červená\" # ale duplicitní hodnoty jsou povoleny\n",
        "\n",
        "# hodnoty se dají vypsat dvěma způsoby\n",
        "print(Barva.CERVENA.value)\n",
        "print(Barva[\"CERVENA\"].value)\n",
        "\n",
        "# pokud chceme vypsat klíč, máme na to opět 2 způsoby\n",
        "print(Barva[\"ZELENA\"].name)\n",
        "print(Barva.ZELENA.name)\n"
      ]
    },
    {
      "cell_type": "code",
      "execution_count": null,
      "metadata": {
        "id": "6E2q-Nf50n8t"
      },
      "outputs": [],
      "source": [
        "# zároveň můžeme použít for cyklus pro vypsání všech hodnot\n",
        "for barva in Barva:\n",
        "    print(barva.name, barva.value) # zde vypisujeme název a hodnotu"
      ]
    },
    {
      "cell_type": "markdown",
      "metadata": {
        "id": "dBTBEe7B0n8u"
      },
      "source": [
        "### Datové typy v enum\n",
        "Do enum můžeme uložit v podstatě veškeré datové typy. Od intu, přes string, až po listy, či hodnoty bool."
      ]
    },
    {
      "cell_type": "code",
      "execution_count": null,
      "metadata": {
        "id": "ed0Qi2KS0n8v"
      },
      "outputs": [],
      "source": [
        "from enum import Enum\n",
        "\n",
        "class Clovek(Enum):\n",
        "    JMENO = \"Jakub\"\n",
        "    PRIJMENI = \"Křížek\"\n",
        "    VEK = 30\n",
        "    OBLIBENE_JIDLO = [\"lasagne\", \"pizza\", \"koláč\"]\n",
        "    VYSOKA_SKOLA = False\n",
        "\n",
        "\n",
        "# zároveň můžeme použít for cyklus pro vypsání všech hodnot\n",
        "for atriubt in Clovek:\n",
        "    print(atriubt.name, atriubt.value) # zde vypisujeme název a hodnotu"
      ]
    },
    {
      "cell_type": "markdown",
      "metadata": {
        "id": "yA_lzDOA0n8v"
      },
      "source": [
        "### Enum v jiných výčtových datových typech\n",
        "Enum může být použit v jiných výčtových datových typech."
      ]
    },
    {
      "cell_type": "code",
      "execution_count": null,
      "metadata": {
        "id": "U9wut8C90n8w"
      },
      "outputs": [],
      "source": [
        "# využijeme už vytvoženého člověka a použijeme ho jako klíč v dictu\n",
        "\n",
        "muj_dict = {}\n",
        "muj_dict[Clovek.JMENO] = \"jméno\"\n",
        "print(muj_dict)\n",
        "\n",
        "# zároveň Enum můžeme použít v setu\n",
        "muj_set = {Clovek.JMENO, Clovek.PRIJMENI, Clovek.VEK}\n",
        "print(muj_set)\n",
        "\n",
        "# v tuplu\n",
        "muj_tuple = (Clovek.JMENO, Clovek.PRIJMENI, Clovek.VEK)\n",
        "print(muj_tuple)\n",
        "\n",
        "# nebo v listu\n",
        "muj_list = [Clovek.JMENO, Clovek.PRIJMENI, Clovek.VEK]\n",
        "print(muj_list)"
      ]
    },
    {
      "cell_type": "markdown",
      "metadata": {
        "id": "yqnsrl0U0n8x"
      },
      "source": [
        "## Cvičení\n",
        "Bude následovat pár cvičení na procvičení znalostí.\n",
        "\n",
        "### Cvičení 1:\n",
        "Ze zadaného pole vytiskněte všechny prvky. Poté třetí prvek vyjměte a vytiskněte nový prvek, který bude na třetím místě."
      ]
    },
    {
      "cell_type": "code",
      "execution_count": null,
      "metadata": {
        "id": "WN0lb7iy0n8y"
      },
      "outputs": [],
      "source": [
        "pole = [\"pět\", \"šest\", 7, \"osm\", \"devět\", True]\n",
        "\n"
      ]
    },
    {
      "cell_type": "markdown",
      "metadata": {
        "id": "Pk7sjGE_0n8z"
      },
      "source": [
        "Referenční řešení pro for-cyklus: <br>\n",
        "<table style=\"margin:auto\">\n",
        "<tr>\n",
        "<td>\n",
        "<pre>\n",
        "pět\n",
        "šest\n",
        "7\n",
        "osm\n",
        "devět\n",
        "True\n",
        "</pre>\n",
        "</td>\n",
        "</tr>\n",
        "</table>\n",
        "\n",
        "Referenční řešení pro vyhozený element: <br>\n",
        "<table style=\"margin:auto\">\n",
        "<tr>\n",
        "<td>\n",
        "osm\n",
        "</td>\n",
        "</tr>\n",
        "</table>\n",
        "\n"
      ]
    },
    {
      "cell_type": "markdown",
      "metadata": {
        "id": "c7ctbztE0n80"
      },
      "source": [
        "### Cvičení 2:\n",
        "Vytvořte datovou strukturu dict o minimálně 3 hodnotách a pomocí for loop vytiskněte všechny hodnoty a klíče. Poté přidejte nový klíč s hodnotou a znovu vypište"
      ]
    },
    {
      "cell_type": "code",
      "execution_count": null,
      "metadata": {
        "id": "fpPPg9P60n80"
      },
      "outputs": [],
      "source": []
    },
    {
      "cell_type": "markdown",
      "metadata": {
        "id": "19qSkel90n81"
      },
      "source": [
        "Referenční řešení před přidáním hodnty: <br>\n",
        "<table style=\"margin:auto\">\n",
        "<tr>\n",
        "<td>\n",
        "<pre>\n",
        "jméno Jakub\n",
        "příjmení Křížek\n",
        "věk 30\n",
        "</pre>\n",
        "</td>\n",
        "</tr>\n",
        "</table>\n",
        "\n",
        "Referenční řešení po přidání hodnty: <br>\n",
        "<table style=\"margin:auto\">\n",
        "<tr>\n",
        "<td>\n",
        "<pre>\n",
        "{'jméno': 'Jakub', 'příjmení': 'Křížek', 'věk': 30, 'řidičský_průkaz': True}\n",
        "</pre>\n",
        "</td>\n",
        "</tr>\n",
        "</table>"
      ]
    },
    {
      "cell_type": "markdown",
      "metadata": {
        "id": "VgrntaWG0n82"
      },
      "source": [
        "### Cvičení 3:\n",
        "Vytvořte datovou strukturu Enum, která bude obsahovat roční období. Následně ve for loopu vypište klíče a hodoty."
      ]
    },
    {
      "cell_type": "code",
      "execution_count": null,
      "metadata": {
        "id": "fdAZ5P510n83"
      },
      "outputs": [],
      "source": [
        "from enum import Enum\n"
      ]
    },
    {
      "cell_type": "markdown",
      "metadata": {
        "id": "2JMjFeLQ0n83"
      },
      "source": [
        "Referenční řešení: <br>\n",
        "<table style=\"margin:auto\">\n",
        "<tr>\n",
        "<td>\n",
        "<pre>\n",
        "PRVNI JARO\n",
        "DRUHE LÉTO\n",
        "TRETI PODZIM\n",
        "CETVRTE ZIMA\n",
        "</pre>\n",
        "</td>\n",
        "</tr>\n",
        "</table>"
      ]
    }
  ],
  "metadata": {
    "interpreter": {
      "hash": "bcd8813e51c944e999bf7108618aeb38e936e31a06e2fbc82f40b9f33ae8dee4"
    },
    "kernelspec": {
      "display_name": "Python 3.8.10 ('env': venv)",
      "language": "python",
      "name": "python3"
    },
    "language_info": {
      "codemirror_mode": {
        "name": "ipython",
        "version": 3
      },
      "file_extension": ".py",
      "mimetype": "text/x-python",
      "name": "python",
      "nbconvert_exporter": "python",
      "pygments_lexer": "ipython3",
      "version": "3.8.10"
    },
    "orig_nbformat": 4,
    "colab": {
      "name": "Vyctove_datove_typy_zadani.ipynb",
      "provenance": [],
      "include_colab_link": true
    }
  },
  "nbformat": 4,
  "nbformat_minor": 0
}