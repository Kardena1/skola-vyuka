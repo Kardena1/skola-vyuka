{
  "nbformat": 4,
  "nbformat_minor": 0,
  "metadata": {
    "colab": {
      "name": "While_zadani.ipynb",
      "provenance": [],
      "include_colab_link": true
    },
    "kernelspec": {
      "name": "python3",
      "display_name": "Python 3"
    },
    "language_info": {
      "name": "python"
    }
  },
  "cells": [
    {
      "cell_type": "markdown",
      "metadata": {
        "id": "view-in-github",
        "colab_type": "text"
      },
      "source": [
        "<a href=\"https://colab.research.google.com/github/Kardena1/skola-vyuka/blob/main/JupyterNotebook/Python/While_zadani.ipynb\" target=\"_parent\"><img src=\"https://colab.research.google.com/assets/colab-badge.svg\" alt=\"Open In Colab\"/></a>"
      ]
    },
    {
      "cell_type": "markdown",
      "metadata": {
        "id": "0Emcs3DswX_h"
      },
      "source": [
        "<h1>While</h1>\n",
        "<p>Řídící struktura \"while\" je takzvaný cyklus.<br>Cyklus, jak název napovídá, opakuje část kódu (skupinu příkazů) stále dokola. Hodí se tedy tam, kde chceme stejnou skupinu příkazů provést opakovaně.</p>\n",
        "<p>Během jednotlivých \"koleček\" (průběhů cyklem) se samozřejmě může měnit hodnota různých proměnných, a tak se v každém průběhu cyklem může výsledek operací lišit.</p>"
      ]
    },
    {
      "cell_type": "markdown",
      "metadata": {
        "id": "CvOwZNtFyURp"
      },
      "source": [
        "<h2>Syntaxe a sémantika</h2>\n",
        "<p>Syntaxe while cyklu vypadá následovně:</p>\n",
        "<pre>while podmínka:\n",
        "  příkaz v těle while\n",
        "  případně další příkaz\n",
        "  a ještě další příkaz\n",
        "příkaz mimo while</pre>"
      ]
    },
    {
      "cell_type": "markdown",
      "metadata": {
        "id": "_V5POFbfRnD7"
      },
      "source": [
        "<p>Sémantika:<br>Program zkontroluje podmínku - pokud je splněná, pokračuje v těle while-cyklu příkazem, dalším příkazem, ještě dalším příkazem a poté znovu zkontroluje podmínku - pokud je splněná, znovu vstoupí do těla while-cyklu atd., pokud podmínka splněná není (ve chvíli kdy se kontroluje), pokračuje program dále - příkazem mimo while a již se zpět nevrací.</p>"
      ]
    },
    {
      "cell_type": "markdown",
      "metadata": {
        "id": "VJEe6CMrXGu-"
      },
      "source": [
        "<h2>Ukázka použití</h2>\n",
        "<p>Následující ukázka realizuje slavný <a href=\"https://cs.wikipedia.org/wiki/Collatz%C5%AFv_probl%C3%A9m\">3n+1 problém</a> </p>"
      ]
    },
    {
      "cell_type": "code",
      "metadata": {
        "id": "SC8t1s_WwVSf"
      },
      "source": [
        "x = 257\n",
        "print(\"Počáteční hodnota:\",x)\n",
        "while x > 1: # pokud je číslo jedna (nebo méně) - ukonči cyklus, pokud je číslo větši než jedna - pokračuj do těla cyklu\n",
        "  if x%2 == 0: # sudá čísla vyděl dvěma\n",
        "    x = x//2\n",
        "  else: # lichá čísla vynásob třemi a přičti jedna\n",
        "    x = 3*x+1\n",
        "  print(\"Další krok:\",x) # vždy vytiskni aktuální stav čísla\n",
        "print(\"Konec\")"
      ],
      "execution_count": null,
      "outputs": []
    },
    {
      "cell_type": "markdown",
      "metadata": {
        "id": "L6VWob6nfDRO"
      },
      "source": [
        "<h1>Pár detailů</h1>\n",
        "<h2>pass</h2>\n",
        "<p>Uvnitř těla cyklu musí být vždy alespoň jeden příkaz. Pokud si chceme pouze předpřipravit cyklus a zatím ho nechat prázdný, musíme do jeho těla napsat klíčové slovo \"pass\"</p>"
      ]
    },
    {
      "cell_type": "code",
      "metadata": {
        "id": "VFCKK-fply5f"
      },
      "source": [
        "x = 0\n",
        "while x > 10:\n",
        "  pass # ještě nevím, co tu uvnitř budu dělat - zkuste tento řádek smazat\n",
        "print(\"Konec\")"
      ],
      "execution_count": null,
      "outputs": []
    },
    {
      "cell_type": "markdown",
      "metadata": {
        "id": "PhoZ9qdUf0XM"
      },
      "source": [
        "<h2>Nekonečný cyklus</h2>\n",
        "<p>Při psaní while cyklu se snadno stane, že člověk nepohlídá jednu <strong>velmi důležitou věc</strong>:<br>While poběží do té doby, dokud je podmínka splněná (True) - pokud nezajistíme, aby někdy splněna nebyla (takže nikdy nebude False - bude stále True), cyklus nikdy neskončí a program poběží donekonečna.<br>To někdy chceme (napříkad některé hry běží, dokud je neukončí uživatel kliknutím na zavírací křížek), většinou však chceme aby program sám v nějakou chvíli ukončil výpočet a zobrazil nám výsledek.</p>\n"
      ]
    },
    {
      "cell_type": "code",
      "metadata": {
        "id": "_dKHEmfZfmAl"
      },
      "source": [
        "x = 0\n",
        "while x > 10: # zkuste otočit znaménko -> tím bude podmínka vždy splněna (v x je stále nula a nula bude vždy menší než deset)\n",
        "  pass\n",
        "print(\"Konec\")"
      ],
      "execution_count": null,
      "outputs": []
    },
    {
      "cell_type": "markdown",
      "metadata": {
        "id": "KMQR0XLpwWlB"
      },
      "source": [
        "<h1>Cvičení</h1>"
      ]
    },
    {
      "cell_type": "markdown",
      "metadata": {
        "id": "mA1-q0a4e4qA"
      },
      "source": [
        "<h2>1</h2>\n",
        "<p>Upravte kód níže tak, aby na závěr vytiskl také délku výpočtu (počet průchodů cyklem)</p>"
      ]
    },
    {
      "cell_type": "code",
      "metadata": {
        "id": "Z466EW8o635i",
        "outputId": "411ec9b7-0f52-4cc0-873b-1a31a3d93faf",
        "colab": {
          "base_uri": "https://localhost:8080/"
        }
      },
      "source": [
        "x = 9\n",
        "y = 0\n",
        "print(\"Počáteční hodnota:\",x)\n",
        "while x > 1: # pokud je číslo jedna (nebo méně) - ukonči cyklus, pokud je číslo větši než jedna - pokračuj do těla cyklu\n",
        "  y = y + 1\n",
        "  if x%2 == 0: # sudá čísla vyděl dvěma\n",
        "    x = x//2\n",
        "  else: # lichá čísla vynásob třemi a přičti jedna\n",
        "    x = 3*x+1\n",
        "  print(\"Další krok:\",x) # vždy vytiskni aktuální stav čísla\n",
        "print(\"Konec,\", \"Počet kroků:\", y )"
      ],
      "execution_count": 8,
      "outputs": [
        {
          "output_type": "stream",
          "name": "stdout",
          "text": [
            "Počáteční hodnota: 9\n",
            "Další krok: 28\n",
            "Další krok: 14\n",
            "Další krok: 7\n",
            "Další krok: 22\n",
            "Další krok: 11\n",
            "Další krok: 34\n",
            "Další krok: 17\n",
            "Další krok: 52\n",
            "Další krok: 26\n",
            "Další krok: 13\n",
            "Další krok: 40\n",
            "Další krok: 20\n",
            "Další krok: 10\n",
            "Další krok: 5\n",
            "Další krok: 16\n",
            "Další krok: 8\n",
            "Další krok: 4\n",
            "Další krok: 2\n",
            "Další krok: 1\n",
            "Konec, Počet kroků: 19\n"
          ]
        }
      ]
    },
    {
      "cell_type": "markdown",
      "metadata": {
        "id": "ygLmHF2V7hVr"
      },
      "source": [
        "<p>Výsledky pro Vaší kontrolu - referenční řešení má 11 řádků</p>\n",
        "<table>\n",
        "<tr>\n",
        "<td>\n",
        "<pre>\n",
        "Počáteční hodnota: 5\n",
        "Další krok: 16\n",
        "Další krok: 8\n",
        "Další krok: 4\n",
        "Další krok: 2\n",
        "Další krok: 1\n",
        "Konec, Počet kroků: 5\n",
        "</pre>\n",
        "</td>\n",
        "\n",
        "<td>\n",
        "<pre>\n",
        "Počáteční hodnota: 1\n",
        "Konec, Počet kroků: 0\n",
        "</pre>\n",
        "</td>\n",
        "\n",
        "<td>\n",
        "<pre>\n",
        "Počáteční hodnota: 17\n",
        "Další krok: 52\n",
        "Další krok: 26\n",
        "Další krok: 13\n",
        "Další krok: 40\n",
        "Další krok: 20\n",
        "Další krok: 10\n",
        "Další krok: 5\n",
        "Další krok: 16\n",
        "Další krok: 8\n",
        "Další krok: 4\n",
        "Další krok: 2\n",
        "Další krok: 1\n",
        "Konec, Počet kroků: 12\n",
        "</pre>\n",
        "</td>\n",
        "\n",
        "<td>\n",
        "<pre>\n",
        "Počáteční hodnota: 9\n",
        "Další krok: 28\n",
        "Další krok: 14\n",
        "Další krok: 7\n",
        "Další krok: 22\n",
        "Další krok: 11\n",
        "Další krok: 34\n",
        "Další krok: 17\n",
        "Další krok: 52\n",
        "Další krok: 26\n",
        "Další krok: 13\n",
        "Další krok: 40\n",
        "Další krok: 20\n",
        "Další krok: 10\n",
        "Další krok: 5\n",
        "Další krok: 16\n",
        "Další krok: 8\n",
        "Další krok: 4\n",
        "Další krok: 2\n",
        "Další krok: 1\n",
        "Konec, Počet kroků: 19\n",
        "</pre>\n",
        "</td>\n",
        "\n",
        "</tr>\n",
        "</table>"
      ]
    },
    {
      "cell_type": "markdown",
      "metadata": {
        "id": "x6jEH5_-9UaV"
      },
      "source": [
        "<h2>2</h2>\n",
        "<p>Vypište pomocí while čísla od 5 do 11 včetně.</p>\n",
        "<p>Poznámka: na takový úkol existuje v Pythonu elegantnější způsob než pomocí while, berte to jako trénink.</p>"
      ]
    },
    {
      "cell_type": "code",
      "metadata": {
        "id": "O1Hv2HMx9__G",
        "outputId": "c2f3363c-9ca3-4476-93b4-ecb8c1ced2c7",
        "colab": {
          "base_uri": "https://localhost:8080/"
        }
      },
      "source": [
        "cislo = 4\n",
        "\n",
        "while True:\n",
        "  cislo += 1\n",
        "  print(cislo)\n",
        "  if cislo == 11:\n",
        "    break"
      ],
      "execution_count": 6,
      "outputs": [
        {
          "output_type": "stream",
          "name": "stdout",
          "text": [
            "5\n",
            "6\n",
            "7\n",
            "8\n",
            "9\n",
            "10\n",
            "11\n"
          ]
        }
      ]
    },
    {
      "cell_type": "markdown",
      "metadata": {
        "id": "KceFc8NE_WJF"
      },
      "source": [
        "<p>Výsledky pro Vaší kontrolu - referenční řešení má 4 řádky</p>\n",
        "<table>\n",
        "<tr>\n",
        "<td>\n",
        "<pre>\n",
        "5\n",
        "6\n",
        "7\n",
        "8\n",
        "9\n",
        "10\n",
        "11\n",
        "</pre>\n",
        "</td>\n",
        "</tr>\n",
        "</table>"
      ]
    },
    {
      "cell_type": "markdown",
      "metadata": {
        "id": "3S10Ec-o_lXD"
      },
      "source": [
        "<h2>3</h2>\n",
        "<p>Vypište pomocí while čísla <strong>mezi</strong> hodnotami, uloženými v proměnných</p>\n",
        "<p>Poznámka: na takový úkol existuje v Pythonu elegantnější způsob než pomocí while, berte to jako trénink.</p>"
      ]
    },
    {
      "cell_type": "code",
      "metadata": {
        "id": "Ch2oqRoYABAE",
        "outputId": "b1e17493-e294-4076-cf2a-871bba36135d",
        "colab": {
          "base_uri": "https://localhost:8080/"
        }
      },
      "source": [
        "od = 4\n",
        "do = 7\n",
        "cislo = od\n",
        "print(\"Čísla mezi {} a {} jsou:\".format(od, do))\n",
        "while True:\n",
        "  cislo += 1\n",
        "  print(cislo)\n",
        "  if cislo == 6:\n",
        "    break\n"
      ],
      "execution_count": 13,
      "outputs": [
        {
          "output_type": "stream",
          "name": "stdout",
          "text": [
            "Čísla mezi 4 a 7 jsou:\n",
            "5\n",
            "6\n"
          ]
        }
      ]
    },
    {
      "cell_type": "markdown",
      "metadata": {
        "id": "5evlE8QKA0Do"
      },
      "source": [
        "<p>Výsledky pro Vaší kontrolu - referenční řešení má 9 řádků</p>\n",
        "<table>\n",
        "<tr>\n",
        "<td>\n",
        "<pre>\n",
        "Čísla mezi 4 a 7 jsou:\n",
        "5\n",
        "6\n",
        "</pre>\n",
        "</td>\n",
        "\n",
        "<td>\n",
        "<pre>\n",
        "Čísla mezi -5 a -1 jsou:\n",
        "-4\n",
        "-3\n",
        "-2\n",
        "</pre>\n",
        "</td>\n",
        "\n",
        "<td>\n",
        "<pre>\n",
        "Čísla mezi 4 a -2 jsou:\n",
        "-1\n",
        "0\n",
        "1\n",
        "2\n",
        "3\n",
        "</pre>\n",
        "</td>\n",
        "\n",
        "<td>\n",
        "<pre>\n",
        "Čísla mezi 6 a 6 jsou:\n",
        "</pre>\n",
        "</td>\n",
        "\n",
        "</tr>\n",
        "</table>"
      ]
    },
    {
      "cell_type": "markdown",
      "metadata": {
        "id": "-2aYrp5aDPsh"
      },
      "source": [
        "<h2>4</h2>\n",
        "<p>Nechte uživatele zadávat písmena (případně cokoliv jiného).<br>Program vždy vypíše to, co uživatel zadal. Pokud zadá písmeno \"k\" program skončí, pokud zadá cokoliv jiného, program pokračuje.</p>\n"
      ]
    },
    {
      "cell_type": "code",
      "metadata": {
        "id": "9TZ_tg8_D8wc",
        "outputId": "8c024de3-7e02-4f84-c734-54b86fb42553",
        "colab": {
          "base_uri": "https://localhost:8080/"
        }
      },
      "source": [
        "zadano = None\n",
        "while zadano != \"k\":\n",
        "  zadano = input(\"Napiš něco: \")\n",
        "  print(\"Zadal jsi:\",zadano)\n",
        "print(\"Konec\")\n"
      ],
      "execution_count": 14,
      "outputs": [
        {
          "output_type": "stream",
          "name": "stdout",
          "text": [
            "Napiš něco: 2\n",
            "Zadal jsi: 2\n",
            "Napiš něco: \n",
            "Zadal jsi: \n",
            "Napiš něco: 31313\n",
            "Zadal jsi: 31313\n",
            "Napiš něco: 3\n",
            "Zadal jsi: 3\n",
            "Napiš něco: \n",
            "Zadal jsi: \n",
            "Napiš něco: \n",
            "Zadal jsi: \n",
            "Napiš něco: \n",
            "Zadal jsi: \n",
            "Napiš něco: 3\n",
            "Zadal jsi: 3\n",
            "Napiš něco: 4\n",
            "Zadal jsi: 4\n",
            "Napiš něco: k\n",
            "Zadal jsi: k\n",
            "Konec\n"
          ]
        }
      ]
    },
    {
      "cell_type": "markdown",
      "metadata": {
        "id": "pWqpsgKAEcd3"
      },
      "source": [
        "<p>Výsledky pro Vaší kontrolu - referenční řešení má 5 řádků</p>\n",
        "<table>\n",
        "<tr>\n",
        "<td>\n",
        "<pre>\n",
        "Napiš něco: a\n",
        "Zadal jsi: a\n",
        "Napiš něco: Ahoj\n",
        "Zadal jsi: Ahoj\n",
        "Napiš něco: 5\n",
        "Zadal jsi: 5\n",
        "Napiš něco: k\n",
        "Zadal jsi: k\n",
        "Konec\n",
        "</pre>\n",
        "</td>\n",
        "\n",
        "<td>\n",
        "<pre>\n",
        "Napiš něco: k\n",
        "Zadal jsi: k\n",
        "Konec\n",
        "</pre>\n",
        "</td>\n",
        "\n",
        "<td>\n",
        "<pre>\n",
        "Napiš něco: nic\n",
        "Zadal jsi: nic\n",
        "Napiš něco: 789\n",
        "Zadal jsi: 789\n",
        "Napiš něco: 7.47\n",
        "Zadal jsi: 7.47\n",
        "Napiš něco: k\n",
        "Zadal jsi: k\n",
        "Konec\n",
        "</pre>\n",
        "</td>\n",
        "\n",
        "</tr>\n",
        "</table>"
      ]
    },
    {
      "cell_type": "markdown",
      "metadata": {
        "id": "OMI-M2cqFCPQ"
      },
      "source": [
        "<h2>5</h2>\n",
        "<p>Nechte uživatele zadávat dvě celá čísla oddělená mezerou.<br>Pokud jsou obě čísla lichá, program skončí. Pokud nejsou obě lichá, nechá program uživatele zadání opakovat.</p>"
      ]
    },
    {
      "cell_type": "code",
      "metadata": {
        "id": "WaLvMOfnFtTg",
        "outputId": "db9860cf-0cff-4e76-912f-870fec47eab5",
        "colab": {
          "base_uri": "https://localhost:8080/",
          "height": 408
        }
      },
      "source": [
        "podminka = True\n",
        "while podminka:\n",
        "  x = int(input(\"zadejte cele cislo\"))\n",
        "  y = int(input(\"Zadejte cele cislo\"))\n",
        "  cislo = x % y\n",
        "  if cislo == 1:\n",
        "    print(\"spravne\")\n",
        "    break\n",
        "  print(\"zadejte jenom licha cisla, aby byl zbytek\")\n",
        "\n",
        "#nevim\n",
        "\n",
        ""
      ],
      "execution_count": 27,
      "outputs": [
        {
          "output_type": "stream",
          "name": "stdout",
          "text": [
            "zadejte cele cislo5\n",
            "Zadejte cele cislo1\n",
            "zadejte jenom licha cisla, aby byl zbytek\n"
          ]
        },
        {
          "output_type": "error",
          "ename": "KeyboardInterrupt",
          "evalue": "Interrupted by user",
          "traceback": [
            "\u001b[0;31m---------------------------------------------------------------------------\u001b[0m",
            "\u001b[0;31mKeyboardInterrupt\u001b[0m                         Traceback (most recent call last)",
            "\u001b[0;32m/tmp/ipython-input-4185122526.py\u001b[0m in \u001b[0;36m<cell line: 0>\u001b[0;34m()\u001b[0m\n\u001b[1;32m      1\u001b[0m \u001b[0mpodminka\u001b[0m \u001b[0;34m=\u001b[0m \u001b[0;32mTrue\u001b[0m\u001b[0;34m\u001b[0m\u001b[0;34m\u001b[0m\u001b[0m\n\u001b[1;32m      2\u001b[0m \u001b[0;32mwhile\u001b[0m \u001b[0mpodminka\u001b[0m\u001b[0;34m:\u001b[0m\u001b[0;34m\u001b[0m\u001b[0;34m\u001b[0m\u001b[0m\n\u001b[0;32m----> 3\u001b[0;31m   \u001b[0mx\u001b[0m \u001b[0;34m=\u001b[0m \u001b[0mint\u001b[0m\u001b[0;34m(\u001b[0m\u001b[0minput\u001b[0m\u001b[0;34m(\u001b[0m\u001b[0;34m\"zadejte cele cislo\"\u001b[0m\u001b[0;34m)\u001b[0m\u001b[0;34m)\u001b[0m\u001b[0;34m\u001b[0m\u001b[0;34m\u001b[0m\u001b[0m\n\u001b[0m\u001b[1;32m      4\u001b[0m   \u001b[0my\u001b[0m \u001b[0;34m=\u001b[0m \u001b[0mint\u001b[0m\u001b[0;34m(\u001b[0m\u001b[0minput\u001b[0m\u001b[0;34m(\u001b[0m\u001b[0;34m\"Zadejte cele cislo\"\u001b[0m\u001b[0;34m)\u001b[0m\u001b[0;34m)\u001b[0m\u001b[0;34m\u001b[0m\u001b[0;34m\u001b[0m\u001b[0m\n\u001b[1;32m      5\u001b[0m   \u001b[0mcislo\u001b[0m \u001b[0;34m=\u001b[0m \u001b[0mx\u001b[0m \u001b[0;34m%\u001b[0m \u001b[0my\u001b[0m\u001b[0;34m\u001b[0m\u001b[0;34m\u001b[0m\u001b[0m\n",
            "\u001b[0;32m/usr/local/lib/python3.12/dist-packages/ipykernel/kernelbase.py\u001b[0m in \u001b[0;36mraw_input\u001b[0;34m(self, prompt)\u001b[0m\n\u001b[1;32m   1175\u001b[0m                 \u001b[0;34m\"raw_input was called, but this frontend does not support input requests.\"\u001b[0m\u001b[0;34m\u001b[0m\u001b[0;34m\u001b[0m\u001b[0m\n\u001b[1;32m   1176\u001b[0m             )\n\u001b[0;32m-> 1177\u001b[0;31m         return self._input_request(\n\u001b[0m\u001b[1;32m   1178\u001b[0m             \u001b[0mstr\u001b[0m\u001b[0;34m(\u001b[0m\u001b[0mprompt\u001b[0m\u001b[0;34m)\u001b[0m\u001b[0;34m,\u001b[0m\u001b[0;34m\u001b[0m\u001b[0;34m\u001b[0m\u001b[0m\n\u001b[1;32m   1179\u001b[0m             \u001b[0mself\u001b[0m\u001b[0;34m.\u001b[0m\u001b[0m_parent_ident\u001b[0m\u001b[0;34m[\u001b[0m\u001b[0;34m\"shell\"\u001b[0m\u001b[0;34m]\u001b[0m\u001b[0;34m,\u001b[0m\u001b[0;34m\u001b[0m\u001b[0;34m\u001b[0m\u001b[0m\n",
            "\u001b[0;32m/usr/local/lib/python3.12/dist-packages/ipykernel/kernelbase.py\u001b[0m in \u001b[0;36m_input_request\u001b[0;34m(self, prompt, ident, parent, password)\u001b[0m\n\u001b[1;32m   1217\u001b[0m             \u001b[0;32mexcept\u001b[0m \u001b[0mKeyboardInterrupt\u001b[0m\u001b[0;34m:\u001b[0m\u001b[0;34m\u001b[0m\u001b[0;34m\u001b[0m\u001b[0m\n\u001b[1;32m   1218\u001b[0m                 \u001b[0;31m# re-raise KeyboardInterrupt, to truncate traceback\u001b[0m\u001b[0;34m\u001b[0m\u001b[0;34m\u001b[0m\u001b[0m\n\u001b[0;32m-> 1219\u001b[0;31m                 \u001b[0;32mraise\u001b[0m \u001b[0mKeyboardInterrupt\u001b[0m\u001b[0;34m(\u001b[0m\u001b[0;34m\"Interrupted by user\"\u001b[0m\u001b[0;34m)\u001b[0m \u001b[0;32mfrom\u001b[0m \u001b[0;32mNone\u001b[0m\u001b[0;34m\u001b[0m\u001b[0;34m\u001b[0m\u001b[0m\n\u001b[0m\u001b[1;32m   1220\u001b[0m             \u001b[0;32mexcept\u001b[0m \u001b[0mException\u001b[0m\u001b[0;34m:\u001b[0m\u001b[0;34m\u001b[0m\u001b[0;34m\u001b[0m\u001b[0m\n\u001b[1;32m   1221\u001b[0m                 \u001b[0mself\u001b[0m\u001b[0;34m.\u001b[0m\u001b[0mlog\u001b[0m\u001b[0;34m.\u001b[0m\u001b[0mwarning\u001b[0m\u001b[0;34m(\u001b[0m\u001b[0;34m\"Invalid Message:\"\u001b[0m\u001b[0;34m,\u001b[0m \u001b[0mexc_info\u001b[0m\u001b[0;34m=\u001b[0m\u001b[0;32mTrue\u001b[0m\u001b[0;34m)\u001b[0m\u001b[0;34m\u001b[0m\u001b[0;34m\u001b[0m\u001b[0m\n",
            "\u001b[0;31mKeyboardInterrupt\u001b[0m: Interrupted by user"
          ]
        }
      ]
    },
    {
      "cell_type": "markdown",
      "metadata": {
        "id": "G7tXrvRAIs1J"
      },
      "source": [
        "<p>Výsledky pro Vaší kontrolu - referenční řešení má 7 řádků</p>\n",
        "<table>\n",
        "<tr>\n",
        "<td>\n",
        "<pre>\n",
        "Zadej dvě lichá čísla oddělená mezerou: 4 7\n",
        "Zadal jsi 4 a 7, ty nejsou obě lichá\n",
        "Zadej dvě lichá čísla oddělená mezerou: 6 4\n",
        "Zadal jsi 6 a 4, ty nejsou obě lichá\n",
        "Zadej dvě lichá čísla oddělená mezerou: 9 2\n",
        "Zadal jsi 9 a 2, ty nejsou obě lichá\n",
        "Zadej dvě lichá čísla oddělená mezerou: 1 3\n",
        "Zadal jsi 1 a 3, ty jsou obě lichá\n",
        "Konec\n",
        "</pre>\n",
        "</td>\n",
        "</tr>\n",
        "</table>"
      ]
    }
  ]
}